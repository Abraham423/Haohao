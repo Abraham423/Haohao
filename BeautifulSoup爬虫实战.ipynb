{
 "cells": [
  {
   "cell_type": "code",
   "execution_count": 2,
   "metadata": {},
   "outputs": [],
   "source": [
    "from bs4 import BeautifulSoup\n",
    "import scrapy\n",
    "import requests\n",
    "import urllib\n",
    "import os\n",
    "import sys\n",
    "from tqdm import tqdm\n",
    "from time import time"
   ]
  },
  {
   "cell_type": "code",
   "execution_count": null,
   "metadata": {},
   "outputs": [],
   "source": []
  },
  {
   "cell_type": "code",
   "execution_count": 33,
   "metadata": {},
   "outputs": [],
   "source": [
    "question = \"michael jackson\"\n",
    "question = question.replace(' ','+')\n",
    "url_dir = f\"https://google.com/search?q={question}&tbm=isch&sclient=img\""
   ]
  },
  {
   "cell_type": "code",
   "execution_count": 37,
   "metadata": {},
   "outputs": [],
   "source": [
    "# 找到合适的代理\n",
    "# desktop user-agent\n",
    "url_agent = \"Mozilla/5.0 (Macintosh; Intel Mac OS X 10.14; rv:65.0) Gecko/20100101 Firefox/65.0\"\n",
    "# mobile user-agent\n",
    "mobile_user_agent = \"Mozilla/5.0 (Linux; Android 7.0; SM-G930V Build/NRD90M) AppleWebKit/537.36 (KHTML, like Gecko) Chrome/59.0.3071.125 Mobile Safari/537.36\"\n"
   ]
  },
  {
   "cell_type": "code",
   "execution_count": 40,
   "metadata": {},
   "outputs": [],
   "source": [
    "headers = {\"user-agent\":mobile_user_agent}\n",
    "resp = requests.get(url_dir,headers = headers)\n",
    "if resp.status_code == 200:\n",
    "    soup = BeautifulSoup(resp.content,\"html.parser\")"
   ]
  },
  {
   "cell_type": "code",
   "execution_count": 52,
   "metadata": {},
   "outputs": [
    {
     "data": {
      "text/plain": [
       "100"
      ]
     },
     "execution_count": 52,
     "metadata": {},
     "output_type": "execute_result"
    }
   ],
   "source": [
    "tags = soup.find_all(attrs={\"class\":\"rg_i Q4LuWd\" })\n",
    "len(tags)"
   ]
  },
  {
   "cell_type": "code",
   "execution_count": 58,
   "metadata": {},
   "outputs": [],
   "source": [
    "img_urls = []\n",
    "for tag in tags:\n",
    "    if 'data-src' in tag.attrs:\n",
    "        img_url = tag.attrs['data-src']\n",
    "        img_urls.append(img_url)"
   ]
  },
  {
   "cell_type": "code",
   "execution_count": 60,
   "metadata": {
    "collapsed": true
   },
   "outputs": [
    {
     "data": {
      "text/plain": [
       "['https://encrypted-tbn0.gstatic.com/images?q=tbn:ANd9GcR6-eUKpKFA2CSiXqLS0xD_IXpw74FXTlbd9A&usqp=CAU',\n",
       " 'https://encrypted-tbn0.gstatic.com/images?q=tbn:ANd9GcSURIas8uVFTAnNKEIbAqvcQxcmUovkeEKHyQ&usqp=CAU',\n",
       " 'https://encrypted-tbn0.gstatic.com/images?q=tbn:ANd9GcQSokuo__fTsMu9FOOjVys_XCKNvJLGdk42Qw&usqp=CAU',\n",
       " 'https://encrypted-tbn0.gstatic.com/images?q=tbn:ANd9GcSxAA8303_86z01TPPqxwesKe7q_OJSJgWxvg&usqp=CAU',\n",
       " 'https://encrypted-tbn0.gstatic.com/images?q=tbn:ANd9GcS9vYd_iikTxr38ldety7hf5WsNFt5CtcWbMg&usqp=CAU',\n",
       " 'https://encrypted-tbn0.gstatic.com/images?q=tbn:ANd9GcRfYzyv-TqGO8SlDLWoB_nSuROs1ONAg-27kg&usqp=CAU',\n",
       " 'https://encrypted-tbn0.gstatic.com/images?q=tbn:ANd9GcQ52Fw9G2ohu8ZxPHLizGR29cASZNc6T2sKCQ&usqp=CAU',\n",
       " 'https://encrypted-tbn0.gstatic.com/images?q=tbn:ANd9GcToK_VHy-1Ss1xyo02vwT1z6eEPXuT4Tdo2xA&usqp=CAU',\n",
       " 'https://encrypted-tbn0.gstatic.com/images?q=tbn:ANd9GcScvpHdgegOolHJtZlhgTI8lLqyDDlfM95dKQ&usqp=CAU',\n",
       " 'https://encrypted-tbn0.gstatic.com/images?q=tbn:ANd9GcTj9163wiCQfW45ERR8wgSpbQVqe4gAibjBiA&usqp=CAU']"
      ]
     },
     "execution_count": 60,
     "metadata": {},
     "output_type": "execute_result"
    }
   ],
   "source": [
    "img_urls[:10]"
   ]
  },
  {
   "cell_type": "code",
   "execution_count": null,
   "metadata": {},
   "outputs": [],
   "source": [
    "\n",
    "<img class=\"rg_i Q4LuWd\" \n",
    "src=\"data:image/jpeg;base64,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\" data-deferred=\"1\" jsname=\"Q4LuWd\" width=\"279\" height=\"181\" data-index=\"0\" alt=\"Michael Jackson - Kids, Thriller &amp; Songs - Biography\" data-iml=\"146.71499998075888\" data-atf=\"true\">\n",
    "\n",
    "\n"
   ]
  },
  {
   "cell_type": "code",
   "execution_count": 55,
   "metadata": {},
   "outputs": [
    {
     "data": {
      "text/plain": [
       "{'class': ['rg_i', 'Q4LuWd'],\n",
       " 'src': 'data:image/gif;base64,R0lGODlhAQABAIAAAP///////yH5BAEKAAEALAAAAAABAAEAAAICTAEAOw==',\n",
       " 'data-iid': '0',\n",
       " 'data-deferred': '1',\n",
       " 'jsname': 'Q4LuWd',\n",
       " 'width': '168',\n",
       " 'height': '258',\n",
       " 'data-index': '0',\n",
       " 'alt': 'Home | Michael Jackson Official Site'}"
      ]
     },
     "execution_count": 55,
     "metadata": {},
     "output_type": "execute_result"
    }
   ],
   "source": [
    "tag.attrs"
   ]
  },
  {
   "cell_type": "code",
   "execution_count": 57,
   "metadata": {},
   "outputs": [
    {
     "data": {
      "text/plain": [
       "<img alt=\"We already know the real Michael Jackson – we didn't need another ...\" class=\"rg_i Q4LuWd\" data-ils=\"3\" data-index=\"0\" data-src=\"https://encrypted-tbn0.gstatic.com/images?q=tbn:ANd9GcScvpHdgegOolHJtZlhgTI8lLqyDDlfM95dKQ&amp;usqp=CAU\" height=\"125\" jsaction=\"rcuQ6b:trigger.M8vzZb;\" jsname=\"Q4LuWd\" width=\"168\"/>"
      ]
     },
     "execution_count": 57,
     "metadata": {},
     "output_type": "execute_result"
    }
   ],
   "source": [
    "tags[10]"
   ]
  },
  {
   "cell_type": "code",
   "execution_count": 36,
   "metadata": {},
   "outputs": [],
   "source": []
  },
  {
   "cell_type": "code",
   "execution_count": 16,
   "metadata": {},
   "outputs": [
    {
     "name": "stdout",
     "output_type": "stream",
     "text": [
      "[]\n"
     ]
    }
   ],
   "source": [
    "results = []\n",
    "for g in soup.find_all('div',class_ = 'r'):\n",
    "    anchors = g.find_all('a')\n",
    "    if anchors:\n",
    "        link = anchors[0]['href']\n",
    "        title = g.find('h3').text\n",
    "        item = {\n",
    "            \"title\":title,\n",
    "            \"link\":link\n",
    "        }\n",
    "        results.append(item)\n",
    "print(results)"
   ]
  },
  {
   "cell_type": "code",
   "execution_count": 23,
   "metadata": {},
   "outputs": [],
   "source": [
    "tag = soup.find_all('div')[10]"
   ]
  },
  {
   "cell_type": "code",
   "execution_count": null,
   "metadata": {},
   "outputs": [],
   "source": []
  },
  {
   "cell_type": "code",
   "execution_count": 31,
   "metadata": {},
   "outputs": [],
   "source": [
    "question = \"hackernoon how to scrape google with python\"\n",
    "question = question.replace(' ','+')\n",
    "url_dir = f\"https://google.com/search?q={question}&tbm=isch&sclient=img\""
   ]
  },
  {
   "cell_type": "code",
   "execution_count": 32,
   "metadata": {},
   "outputs": [
    {
     "name": "stdout",
     "output_type": "stream",
     "text": [
      "https://google.com/search?q=hackernoon+how+to+scrape+google+with+python&tbm=isch&sclient=img\n"
     ]
    }
   ],
   "source": [
    "print(url_dir)"
   ]
  },
  {
   "cell_type": "code",
   "execution_count": null,
   "metadata": {},
   "outputs": [],
   "source": []
  },
  {
   "cell_type": "code",
   "execution_count": null,
   "metadata": {},
   "outputs": [],
   "source": []
  },
  {
   "cell_type": "code",
   "execution_count": null,
   "metadata": {},
   "outputs": [],
   "source": []
  },
  {
   "cell_type": "code",
   "execution_count": null,
   "metadata": {},
   "outputs": [],
   "source": []
  },
  {
   "cell_type": "code",
   "execution_count": null,
   "metadata": {},
   "outputs": [],
   "source": []
  },
  {
   "cell_type": "code",
   "execution_count": null,
   "metadata": {},
   "outputs": [],
   "source": []
  },
  {
   "cell_type": "code",
   "execution_count": null,
   "metadata": {},
   "outputs": [],
   "source": []
  },
  {
   "cell_type": "code",
   "execution_count": null,
   "metadata": {},
   "outputs": [],
   "source": []
  },
  {
   "cell_type": "code",
   "execution_count": null,
   "metadata": {},
   "outputs": [],
   "source": []
  },
  {
   "cell_type": "code",
   "execution_count": null,
   "metadata": {},
   "outputs": [],
   "source": []
  },
  {
   "cell_type": "code",
   "execution_count": null,
   "metadata": {},
   "outputs": [],
   "source": []
  },
  {
   "cell_type": "code",
   "execution_count": null,
   "metadata": {},
   "outputs": [],
   "source": []
  },
  {
   "cell_type": "code",
   "execution_count": null,
   "metadata": {},
   "outputs": [],
   "source": []
  },
  {
   "cell_type": "code",
   "execution_count": null,
   "metadata": {},
   "outputs": [],
   "source": []
  },
  {
   "cell_type": "code",
   "execution_count": null,
   "metadata": {},
   "outputs": [],
   "source": []
  },
  {
   "cell_type": "code",
   "execution_count": null,
   "metadata": {},
   "outputs": [],
   "source": []
  },
  {
   "cell_type": "code",
   "execution_count": null,
   "metadata": {},
   "outputs": [],
   "source": []
  },
  {
   "cell_type": "code",
   "execution_count": null,
   "metadata": {},
   "outputs": [],
   "source": []
  },
  {
   "cell_type": "code",
   "execution_count": null,
   "metadata": {},
   "outputs": [],
   "source": []
  },
  {
   "cell_type": "code",
   "execution_count": null,
   "metadata": {},
   "outputs": [],
   "source": []
  }
 ],
 "metadata": {
  "kernelspec": {
   "display_name": "Python 3",
   "language": "python",
   "name": "python3"
  },
  "language_info": {
   "codemirror_mode": {
    "name": "ipython",
    "version": 3
   },
   "file_extension": ".py",
   "mimetype": "text/x-python",
   "name": "python",
   "nbconvert_exporter": "python",
   "pygments_lexer": "ipython3",
   "version": "3.8.3"
  }
 },
 "nbformat": 4,
 "nbformat_minor": 4
}
